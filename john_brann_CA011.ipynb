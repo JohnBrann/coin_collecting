{
 "cells": [
  {
   "cell_type": "markdown",
   "metadata": {},
   "source": [
    "Write a Python program to implement the coin-collecting robot program using dynamic programming on an m x n map. Your program should return a path for the robot to walk through that contains the largest possible number of coins under the following restriction: In a single step, the robot can move at most one cell east, or one cell south, or one cell southwest. The robot can start from any position in the top row, and must stop at the lowerleft corner.\n",
    "What's a path the robot should move on the following map and what is the number of coins it collects on the path? In the map, 1 represents there is a coin and 0 otherwise."
   ]
  },
  {
   "cell_type": "code",
   "execution_count": 2,
   "metadata": {},
   "outputs": [],
   "source": [
    "class Map:\n",
    "    def __init__(self, m, n):\n",
    "        self.m = m  # Number of rows\n",
    "        self.n = n  # Number of columns\n",
    "        self.grid = []  # To store the map\n",
    "\n",
    "    def load_map(self, grid):\n",
    "        \"\"\"Load a predefined grid into the map.\"\"\"\n",
    "        self.grid = grid\n",
    "\n",
    "    def get_current_map(self):\n",
    "        \"\"\"Print the current map.\"\"\"\n",
    "        for row in self.grid:\n",
    "            print(\" \".join(str(cell) for cell in row))\n",
    "\n",
    "    def get_coins_left(self):\n",
    "        \"\"\"Return the total number of coins left.\"\"\"\n",
    "        return sum(sum(row) for row in self.grid)\n",
    "\n",
    "class Robot(Map):\n",
    "    def __init__(self, name, m, n):\n",
    "        super().__init__(m, n)\n",
    "        self.name = name\n",
    "        self.path = []  # To store the path taken by the robot\n",
    "\n",
    "    def collect_coins(self):\n",
    "        if not self.grid:\n",
    "            return 0, []\n",
    "\n",
    "        dp = [[0] * self.n for _ in range(self.m)]\n",
    "        path_map = [[None] * self.n for _ in range(self.m)]\n",
    "\n",
    "        # Initialize the first row\n",
    "        for j in range(self.n):\n",
    "            dp[0][j] = self.grid[0][j]\n",
    "\n",
    "        # Fill the DP table\n",
    "        for i in range(1, self.m):\n",
    "            for j in range(self.n):\n",
    "                max_prev = dp[i - 1][j]  # From directly above\n",
    "                best_move = (i - 1, j)\n",
    "\n",
    "                # Check diagonal left\n",
    "                if j > 0 and dp[i - 1][j - 1] > max_prev:\n",
    "                    max_prev = dp[i - 1][j - 1]\n",
    "                    best_move = (i - 1, j - 1)\n",
    "\n",
    "                # Check diagonal right\n",
    "                if j < self.n - 1 and dp[i - 1][j + 1] > max_prev:\n",
    "                    max_prev = dp[i - 1][j + 1]\n",
    "                    best_move = (i - 1, j + 1)\n",
    "\n",
    "                dp[i][j] = self.grid[i][j] + max_prev\n",
    "                path_map[i][j] = best_move\n",
    "\n",
    "        # Find the maximum coins collected in the last row\n",
    "        max_coins = max(dp[self.m - 1])\n",
    "        end_col = dp[self.m - 1].index(max_coins)\n",
    "        end_pos = (self.m - 1, end_col)\n",
    "\n",
    "        # Reconstruct the path\n",
    "        current_pos = end_pos\n",
    "        while current_pos:\n",
    "            self.path.append(current_pos)\n",
    "            current_pos = path_map[current_pos[0]][current_pos[1]]\n",
    "\n",
    "        self.path.reverse()\n",
    "        return max_coins, self.path"
   ]
  },
  {
   "cell_type": "code",
   "execution_count": 3,
   "metadata": {},
   "outputs": [],
   "source": [
    "def main():\n",
    "    # Input map (as provided in the problem)\n",
    "    grid = [\n",
    "        [1, 1, 0, 1, 0, 0, 0, 1, 1, 0, 1, 1, 1, 0, 0, 1],\n",
    "        [0, 1, 1, 0, 1, 0, 1, 0, 1, 1, 0, 0, 1, 0, 1, 0],\n",
    "        [1, 0, 1, 0, 1, 0, 1, 0, 1, 0, 1, 0, 1, 0, 1, 0],\n",
    "        [0, 1, 0, 1, 0, 1, 0, 1, 0, 1, 0, 1, 0, 1, 0, 1],\n",
    "        [1, 1, 1, 0, 0, 0, 1, 1, 1, 0, 0, 0, 1, 1, 1, 0],\n",
    "        [0, 1, 0, 0, 0, 1, 1, 1, 0, 1, 1, 1, 0, 0, 0, 1],\n",
    "        [0, 0, 1, 1, 0, 0, 1, 1, 0, 0, 1, 1, 0, 0, 1, 1],\n",
    "        [1, 1, 0, 0, 1, 1, 0, 0, 1, 1, 0, 0, 1, 1, 0, 0],\n",
    "    ]\n",
    "\n",
    "    # Initialize the robot with the grid dimensions\n",
    "    robot = Robot(\"CoinCollectorBot\", len(grid), len(grid[0]))\n",
    "    robot.load_map(grid)\n",
    "\n",
    "    # Display the grid\n",
    "    print(\"Grid:\")\n",
    "    robot.get_current_map()\n",
    "\n",
    "    # Find the maximum coins and path\n",
    "    max_coins, path = robot.collect_coins()\n",
    "\n",
    "    print(\"\\nMaximum Coins Collected:\", max_coins)\n",
    "    print(\"Path Taken:\", path)"
   ]
  },
  {
   "cell_type": "code",
   "execution_count": 6,
   "metadata": {},
   "outputs": [
    {
     "name": "stdout",
     "output_type": "stream",
     "text": [
      "Grid:\n",
      "1 1 0 1 0 0 0 1 1 0 1 1 1 0 0 1\n",
      "0 1 1 0 1 0 1 0 1 1 0 0 1 0 1 0\n",
      "1 0 1 0 1 0 1 0 1 0 1 0 1 0 1 0\n",
      "0 1 0 1 0 1 0 1 0 1 0 1 0 1 0 1\n",
      "1 1 1 0 0 0 1 1 1 0 0 0 1 1 1 0\n",
      "0 1 0 0 0 1 1 1 0 1 1 1 0 0 0 1\n",
      "0 0 1 1 0 0 1 1 0 0 1 1 0 0 1 1\n",
      "1 1 0 0 1 1 0 0 1 1 0 0 1 1 0 0\n",
      "\n",
      "Maximum Coins Collected: 8\n",
      "Path Taken: [(0, 1), (1, 1), (2, 0), (3, 1), (4, 1), (5, 1), (6, 2), (7, 1)]\n"
     ]
    }
   ],
   "source": [
    "if __name__ == \"__main__\":\n",
    "    main()"
   ]
  }
 ],
 "metadata": {
  "kernelspec": {
   "display_name": "base",
   "language": "python",
   "name": "python3"
  },
  "language_info": {
   "codemirror_mode": {
    "name": "ipython",
    "version": 3
   },
   "file_extension": ".py",
   "mimetype": "text/x-python",
   "name": "python",
   "nbconvert_exporter": "python",
   "pygments_lexer": "ipython3",
   "version": "3.12.4"
  }
 },
 "nbformat": 4,
 "nbformat_minor": 2
}
