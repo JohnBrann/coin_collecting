{
 "cells": [
  {
   "cell_type": "markdown",
   "metadata": {},
   "source": [
    "Write a Python program to implement the coin-collecting robot program using dynamic programming on an m x n map. Your program should return a path for the robot to walk through that contains the largest possible number of coins under the following restriction: In a single step, the robot can move at most one cell east, or one cell south, or one cell southwest. The robot can start from any position in the top row, and must stop at the lowerleft corner.\n",
    "What's a path the robot should move on the following map and what is the number of coins it collects on the path? In the map, 1 represents there is a coin and 0 otherwise."
   ]
  },
  {
   "cell_type": "code",
   "execution_count": null,
   "metadata": {},
   "outputs": [],
   "source": []
  }
 ],
 "metadata": {
  "kernelspec": {
   "display_name": "base",
   "language": "python",
   "name": "python3"
  },
  "language_info": {
   "name": "python",
   "version": "3.12.4"
  }
 },
 "nbformat": 4,
 "nbformat_minor": 2
}
